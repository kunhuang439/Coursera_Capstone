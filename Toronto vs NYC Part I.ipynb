{
    "cells": [
        {
            "metadata": {},
            "cell_type": "code",
            "source": "# In this part, two capital cities, Toronto and New York City, will be compared. These two cities are both the financial capitals of their countries. \n# Therefore, these two cities will be compared in terms of their population densities, income and the neighborhoods. ",
            "execution_count": 1,
            "outputs": []
        },
        {
            "metadata": {},
            "cell_type": "code",
            "source": "# The datasets will be used here include:  \n# \u201cList of postal codes of Canada: M\u201d, \"Demographics of Toronto Neighbourhoods\", and \u201cBoroughs of New York City\u201d from Wikipedia.\n# Toronto and NYC location data by IBM\n# Foursquare API",
            "execution_count": 2,
            "outputs": []
        },
        {
            "metadata": {},
            "cell_type": "code",
            "source": "",
            "execution_count": null,
            "outputs": []
        }
    ],
    "metadata": {
        "kernelspec": {
            "name": "python3",
            "display_name": "Python 3.6",
            "language": "python"
        },
        "language_info": {
            "name": "python",
            "version": "3.6.8",
            "mimetype": "text/x-python",
            "codemirror_mode": {
                "name": "ipython",
                "version": 3
            },
            "pygments_lexer": "ipython3",
            "nbconvert_exporter": "python",
            "file_extension": ".py"
        }
    },
    "nbformat": 4,
    "nbformat_minor": 1
}